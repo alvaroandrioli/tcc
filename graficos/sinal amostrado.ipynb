{
 "cells": [
  {
   "cell_type": "code",
   "execution_count": 4,
   "metadata": {
    "collapsed": true
   },
   "outputs": [],
   "source": [
    "import pandas as pd\n",
    "import numpy as np\n",
    "from matplotlib import pyplot as plt\n",
    "import matplotlib\n",
    "%matplotlib tk"
   ]
  },
  {
   "cell_type": "code",
   "execution_count": 2,
   "metadata": {
    "collapsed": true
   },
   "outputs": [],
   "source": [
    "#plt.style.available\n",
    "plt.style.use('seaborn-paper')"
   ]
  },
  {
   "cell_type": "code",
   "execution_count": 3,
   "metadata": {
    "collapsed": true
   },
   "outputs": [],
   "source": [
    "t = np.arange(0, np.pi * 2, 1/100)\n",
    "ts = np.arange(0, np.pi * 2, 1/10)\n",
    "ones = np.ones(ts.size)\n",
    "y = np.sin(t)\n",
    "ys = np.sin(ts)"
   ]
  },
  {
   "cell_type": "code",
   "execution_count": 7,
   "metadata": {},
   "outputs": [
    {
     "name": "stderr",
     "output_type": "stream",
     "text": [
      "/home/andrioli/anaconda3/lib/python3.6/site-packages/matplotlib/axes/_axes.py:545: UserWarning: No labelled objects found. Use label='...' kwarg on individual plots.\n",
      "  warnings.warn(\"No labelled objects found. \"\n"
     ]
    }
   ],
   "source": [
    "plt.subplot(311)\n",
    "plt.plot(t, y, 'b',label=\"f(t)\")\n",
    "plt.title('Sinal contínuo')\n",
    "plt.legend(loc=1)\n",
    "\n",
    "plt.subplot(312)\n",
    "markerline, stemlines, baseline = plt.stem(ts, ones, '-b', markerfmt='b^')\n",
    "plt.setp(baseline, 'color', 'b')\n",
    "plt.legend(loc=1)\n",
    "plt.title('Trem de impulsos')\n",
    "\n",
    "\n",
    "plt.subplot(313)\n",
    "markerline, stemlines, baseline = plt.stem(ts, ys, '-b', markerfmt='bo', label=\"f[k]\")\n",
    "plt.setp(baseline, 'color', 'b')\n",
    "plt.title('Sinal amostrado')\n",
    "plt.legend(loc=1)\n",
    "plt.show()\n",
    "matplotlib.rcParams.update({'font.size': 22})\n",
    "plt.tight_layout()"
   ]
  },
  {
   "cell_type": "code",
   "execution_count": null,
   "metadata": {
    "collapsed": true
   },
   "outputs": [],
   "source": []
  },
  {
   "cell_type": "code",
   "execution_count": null,
   "metadata": {
    "collapsed": true
   },
   "outputs": [],
   "source": []
  },
  {
   "cell_type": "code",
   "execution_count": null,
   "metadata": {
    "collapsed": true
   },
   "outputs": [],
   "source": []
  },
  {
   "cell_type": "code",
   "execution_count": null,
   "metadata": {
    "collapsed": true
   },
   "outputs": [],
   "source": []
  },
  {
   "cell_type": "code",
   "execution_count": null,
   "metadata": {
    "collapsed": true
   },
   "outputs": [],
   "source": []
  }
 ],
 "metadata": {
  "kernelspec": {
   "display_name": "Python 3",
   "language": "python",
   "name": "python3"
  },
  "language_info": {
   "codemirror_mode": {
    "name": "ipython",
    "version": 3
   },
   "file_extension": ".py",
   "mimetype": "text/x-python",
   "name": "python",
   "nbconvert_exporter": "python",
   "pygments_lexer": "ipython3",
   "version": "3.6.1"
  }
 },
 "nbformat": 4,
 "nbformat_minor": 2
}
