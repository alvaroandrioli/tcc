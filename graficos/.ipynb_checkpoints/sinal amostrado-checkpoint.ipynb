{
 "cells": [
  {
   "cell_type": "code",
   "execution_count": 1,
   "metadata": {
    "collapsed": true
   },
   "outputs": [],
   "source": [
    "import pandas as pd\n",
    "import numpy as np\n",
    "from matplotlib import pyplot as plt\n",
    "%matplotlib tk"
   ]
  },
  {
   "cell_type": "code",
   "execution_count": 2,
   "metadata": {},
   "outputs": [
    {
     "data": {
      "text/plain": [
       "['seaborn-bright',\n",
       " 'seaborn-paper',\n",
       " 'seaborn-white',\n",
       " 'classic',\n",
       " 'ggplot',\n",
       " 'seaborn-muted',\n",
       " 'seaborn-dark',\n",
       " 'seaborn-notebook',\n",
       " 'seaborn-ticks',\n",
       " 'grayscale',\n",
       " 'seaborn-deep',\n",
       " '_classic_test',\n",
       " 'seaborn-poster',\n",
       " 'bmh',\n",
       " 'seaborn',\n",
       " 'dark_background',\n",
       " 'seaborn-colorblind',\n",
       " 'seaborn-darkgrid',\n",
       " 'seaborn-talk',\n",
       " 'seaborn-pastel',\n",
       " 'fivethirtyeight',\n",
       " 'seaborn-whitegrid',\n",
       " 'seaborn-dark-palette']"
      ]
     },
     "execution_count": 2,
     "metadata": {},
     "output_type": "execute_result"
    }
   ],
   "source": [
    "plt.style.available"
   ]
  },
  {
   "cell_type": "code",
   "execution_count": 35,
   "metadata": {},
   "outputs": [],
   "source": [
    "t = np.arange(0, np.pi * 2, 1/100)\n",
    "ts = np.arange(0, np.pi * 2, 1/10)\n",
    "ones = np.ones(ts.size)\n",
    "y = np.sin(t)\n",
    "ys = np.sin(ts)"
   ]
  },
  {
   "cell_type": "code",
   "execution_count": 42,
   "metadata": {},
   "outputs": [],
   "source": [
    "plt.subplot(311)\n",
    "plt.plot(t, y, label=\"f(t)\")\n",
    "plt.title('Sinal contínuo')\n",
    "\n",
    "plt.subplot(312)\n",
    "markerline, stemlines, baseline = plt.stem(ts, ones, '-b', markerfmt='b^', baseline='-b')\n",
    "plt.title('Trem de impulsos')\n",
    "\n",
    "\n",
    "plt.subplot(313)\n",
    "plt.stem(ts, ys)\n",
    "plt.title('Sinal Amostrado')\n",
    "\n",
    "plt.show()"
   ]
  },
  {
   "cell_type": "code",
   "execution_count": null,
   "metadata": {
    "collapsed": true
   },
   "outputs": [],
   "source": []
  },
  {
   "cell_type": "code",
   "execution_count": null,
   "metadata": {},
   "outputs": [],
   "source": []
  },
  {
   "cell_type": "code",
   "execution_count": null,
   "metadata": {
    "collapsed": true
   },
   "outputs": [],
   "source": []
  },
  {
   "cell_type": "code",
   "execution_count": null,
   "metadata": {},
   "outputs": [],
   "source": []
  },
  {
   "cell_type": "code",
   "execution_count": null,
   "metadata": {
    "collapsed": true
   },
   "outputs": [],
   "source": []
  }
 ],
 "metadata": {
  "kernelspec": {
   "display_name": "Python 3",
   "language": "python",
   "name": "python3"
  },
  "language_info": {
   "codemirror_mode": {
    "name": "ipython",
    "version": 3
   },
   "file_extension": ".py",
   "mimetype": "text/x-python",
   "name": "python",
   "nbconvert_exporter": "python",
   "pygments_lexer": "ipython3",
   "version": "3.6.1"
  }
 },
 "nbformat": 4,
 "nbformat_minor": 2
}
